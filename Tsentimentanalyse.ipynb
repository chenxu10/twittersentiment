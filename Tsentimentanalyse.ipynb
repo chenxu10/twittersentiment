{
 "cells": [
  {
   "cell_type": "code",
   "execution_count": 2,
   "metadata": {
    "collapsed": true
   },
   "outputs": [],
   "source": [
    "import re\n",
    "import tweepy\n",
    "from tweepy import OAuthHandler\n",
    "from textblob import TextBlob\n",
    "import matplotlib as plot"
   ]
  },
  {
   "cell_type": "code",
   "execution_count": 3,
   "metadata": {
    "collapsed": true
   },
   "outputs": [],
   "source": [
    "class TwitterClient(object):\n",
    "    # generic Twitter class for sentiment analysis\n",
    "    def __init__(self):\n",
    "        '''\n",
    "        Initialization method\n",
    "        '''\n",
    "        # keys and tokens from the twitter by Develop\n",
    "        consumer_key=\"yFJMh1MGWp2jHuL6DNyGsSEtX\"\n",
    "        consumer_secret=\"IXr5AkulpL0i6YfQ5q404FvLyrnYVbQP2KyB4d5ToI16uUToXi\"\n",
    "        access_token=\"901924927133151232-2Lnr6SFDeSN3fjcwz4sLOywF0OM05De\"\n",
    "        access_token_secret=\"t19SO7Q4joHrEW2rY0gd62atBUsqKZrAalQorEBFf33cG\"\n",
    "        # attempt authentation\n",
    "        try:\n",
    "            self.auth=OAuthHandler(consumer_key, consumer_secret)\n",
    "            self.auth.set_access_token(access_token,access_token_secret)\n",
    "            self.api=tweepy.API(self.auth) \n",
    "        except:\n",
    "            print (\"Error:Authentation Failed\")    \n",
    "    def clean_tweet(self,tweet):\n",
    "        return ' '.join(re.sub(\"(@[A-Za-z0-9]+)|([^0-9A-Za-z \\t])|(\\w+:\\/\\/\\S+)\",\" \",tweet).split())\n",
    "    def get_tweet_sentiment(self,tweet):\n",
    "        analysis=TextBlob(self.clean_tweet(tweet))\n",
    "        # set sentiment\n",
    "        if analysis.sentiment.polarity>0:\n",
    "            return 'positive'\n",
    "        elif analysis.sentiment.polarity==0:\n",
    "            return 'netural'\n",
    "        else:\n",
    "            return 'negative'\n",
    "    def get_tweets(self,query,count=10):\n",
    "        # create an empty list to store parsed tweets\n",
    "        tweets=[]        \n",
    "        try:\n",
    "        # call api to fetch tweets\n",
    "            fetched_tweets=self.api.search(q=query,count=count)\n",
    "        # use for loop to parse tweets one by one\n",
    "            for tweet in fetched_tweets:\n",
    "                parsed_tweet={}\n",
    "                parsed_tweet['text']=tweet.text\n",
    "                parsed_tweet['sentiment']=self.get_tweet_sentiment(tweet.text)\n",
    "                if tweet.retweet_count>0:\n",
    "                    if parsed_tweet not in tweets:\n",
    "                        tweets.append(parsed_tweet)\n",
    "                else:\n",
    "                    tweets.append(parsed_tweet)\n",
    "            return tweets\n",
    "        except tweepy.TweepError as e:\n",
    "            print(\"Error:\"+str(e))"
   ]
  },
  {
   "cell_type": "code",
   "execution_count": 21,
   "metadata": {
    "collapsed": true
   },
   "outputs": [],
   "source": [
    "def main():\n",
    "    # create a Twitter client class\n",
    "    api=TwitterClient()\n",
    "    # call function to get tweets \n",
    "    tweets=api.get_tweets(query=\"Artificial Intelligence\",count=2000)\n",
    "    # create a list to restore the positive\n",
    "    ptweets=[tweet for tweet in tweets if tweet['sentiment']=='positive']\n",
    "    ppercent=len(ptweets)/len(tweets)\n",
    "    print (\"The positive tweet percentage towards artifical intelligence is\"+\" \"+str(ppercent))\n",
    "    # calculate the positive percentage\n",
    "    ntweets=[tweet for tweet in tweets if tweet['sentiment']=='negative']\n",
    "    npercent=len(ntweets)/len(tweets)\n",
    "    print (\"The negative tweet percentage towards artifical intelligence is\"+\" \"+str(npercent))\n",
    "    # create a list to restore the negative\n",
    "    # calculate the negative percentage\n",
    "    # print the first five positive tweets \n",
    "    for tweet in ptweets[:5]:\n",
    "        print (tweet['text'])\n",
    "    # print the first five negative tweets\n",
    "    for tweet in ntweets[:5]:\n",
    "        print (tweet['text'])"
   ]
  },
  {
   "cell_type": "code",
   "execution_count": 22,
   "metadata": {},
   "outputs": [
    {
     "name": "stdout",
     "output_type": "stream",
     "text": [
      "The positive tweet percentage towards artifical intelligence is 0.11940298507462686\n",
      "The negative tweet percentage towards artifical intelligence is 0.7313432835820896\n",
      "UAE aims to improve global competitiveness with 5G Dubai: The launch of 5G early next year is in line with the UAE'… https://t.co/vU5TMhTQWn\n",
      "RT @silicontalent: Diagnosing early-stage cervical #cancer using #ArtificialIntelligence . #HealthTech #Healthcare #AI #MachineLearning htt…\n",
      "There's a fine line drawing the difference between #AI, machine learning, and deep learning https://t.co/iZT2kpf1Eh https://t.co/Xo5OcyCHXl\n",
      "What impact is #intelligentautomation having on the job market and is your job safe? https://t.co/p5x6fIBH3R\n",
      "The Blueprints Towards the Development of Good Artificial Intelligence\n",
      "https://t.co/5nu2dppD8m https://t.co/5dnZCt7mqs\n",
      "RT @VertiAI: Meet the researchers who used TV episodes of CSI to train artificial intelligence https://t.co/6Xt41EvoKn #ArtificialIntellige…\n",
      "Narayana Murthy Trashes AI As Hype, Asks IT Leaders To Be Less Greedy https://t.co/Rv2qwCvRSL\n",
      "Artificial Intelligence Would Make Black Friday Shopping Easier! https://t.co/jEqZqAoJYC https://t.co/r261e3rNvb\n",
      "Machine Learning and Fraud: Why Artificial Intelligence Isn’t Enough https://t.co/IGAPRwvqUC #machinelearning… https://t.co/OpNBrt5y4e\n",
      "RT @nikitaljohnson: Amazon steps up pace in artificial intelligence race https://t.co/hTEQ5DCFAM #Amazon #AI #machineintelligence https://t…\n"
     ]
    }
   ],
   "source": [
    "main()"
   ]
  }
 ],
 "metadata": {
  "kernelspec": {
   "display_name": "Python 3",
   "language": "python",
   "name": "python3"
  },
  "language_info": {
   "codemirror_mode": {
    "name": "ipython",
    "version": 3
   },
   "file_extension": ".py",
   "mimetype": "text/x-python",
   "name": "python",
   "nbconvert_exporter": "python",
   "pygments_lexer": "ipython3",
   "version": "3.6.2"
  }
 },
 "nbformat": 4,
 "nbformat_minor": 2
}
