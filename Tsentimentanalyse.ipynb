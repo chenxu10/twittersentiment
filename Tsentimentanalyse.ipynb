{
 "cells": [
  {
   "cell_type": "code",
   "execution_count": 1,
   "metadata": {
    "collapsed": true
   },
   "outputs": [],
   "source": [
    "import re\n",
    "import tweepy\n",
    "from tweepy import OAuthHandler\n",
    "from textblob import TextBlob"
   ]
  },
  {
   "cell_type": "code",
   "execution_count": 16,
   "metadata": {
    "collapsed": true
   },
   "outputs": [],
   "source": [
    "import seaborn as sns\n",
    "import matplotlib.pyplot as plt\n",
    "import numpy as np\n",
    "import pandas as pd"
   ]
  },
  {
   "cell_type": "markdown",
   "metadata": {},
   "source": [
    "Create the TwitterClient datatype"
   ]
  },
  {
   "cell_type": "code",
   "execution_count": 2,
   "metadata": {
    "collapsed": true
   },
   "outputs": [],
   "source": [
    "class TwitterClient(object):\n",
    "    # generic Twitter class for sentiment analysis\n",
    "    def __init__(self):\n",
    "        '''\n",
    "        Initialization method\n",
    "        '''\n",
    "        # keys and tokens from the twitter by Develop\n",
    "        consumer_key=\"yFJMh1MGWp2jHuL6DNyGsSEtX\"\n",
    "        consumer_secret=\"IXr5AkulpL0i6YfQ5q404FvLyrnYVbQP2KyB4d5ToI16uUToXi\"\n",
    "        access_token=\"901924927133151232-2Lnr6SFDeSN3fjcwz4sLOywF0OM05De\"\n",
    "        access_token_secret=\"t19SO7Q4joHrEW2rY0gd62atBUsqKZrAalQorEBFf33cG\"\n",
    "        # attempt authentation\n",
    "        try:\n",
    "            self.auth=OAuthHandler(consumer_key, consumer_secret)\n",
    "            self.auth.set_access_token(access_token,access_token_secret)\n",
    "            self.api=tweepy.API(self.auth) \n",
    "        except:\n",
    "            print (\"Error:Authentation Failed\")    \n",
    "    def clean_tweet(self,tweet):\n",
    "        return ' '.join(re.sub(\"(@[A-Za-z0-9]+)|([^0-9A-Za-z \\t])|(\\w+:\\/\\/\\S+)\",\" \",tweet).split())\n",
    "    def get_tweet_sentiment(self,tweet):\n",
    "        analysis=TextBlob(self.clean_tweet(tweet))\n",
    "        # set sentiment\n",
    "        if analysis.sentiment.polarity>0:\n",
    "            return 'positive'\n",
    "        elif analysis.sentiment.polarity==0:\n",
    "            return 'netural'\n",
    "        else:\n",
    "            return 'negative'\n",
    "    def get_tweets(self,query,count=10):\n",
    "        # create an empty list to store parsed tweets\n",
    "        tweets=[]        \n",
    "        try:\n",
    "        # call api to fetch tweets\n",
    "            fetched_tweets=self.api.search(q=query,count=count)\n",
    "        # use for loop to parse tweets one by one\n",
    "            for tweet in fetched_tweets:\n",
    "                parsed_tweet={}\n",
    "                parsed_tweet['text']=tweet.text\n",
    "                parsed_tweet['sentiment']=self.get_tweet_sentiment(tweet.text)\n",
    "                if tweet.retweet_count>0:\n",
    "                    if parsed_tweet not in tweets:\n",
    "                        tweets.append(parsed_tweet)\n",
    "                else:\n",
    "                    tweets.append(parsed_tweet)\n",
    "            return tweets\n",
    "        except tweepy.TweepError as e:\n",
    "            print(\"Error:\"+str(e))"
   ]
  },
  {
   "cell_type": "markdown",
   "metadata": {},
   "source": [
    "Calculate the percentage of positive and negative tweets"
   ]
  },
  {
   "cell_type": "code",
   "execution_count": 55,
   "metadata": {},
   "outputs": [
    {
     "name": "stdout",
     "output_type": "stream",
     "text": [
      "The positive tweet percentage towards artifical intelligence is 0.12\n",
      "The negative tweet percentage towards artifical intelligence is 0.81\n"
     ]
    }
   ],
   "source": [
    "api=TwitterClient()\n",
    "# call function to get tweets \n",
    "tweets=api.get_tweets(query=\"Artificial Intelligence\",count=5000)\n",
    "# create a list to restore the positive\n",
    "ptweets=[tweet for tweet in tweets if tweet['sentiment']=='positive']\n",
    "ntweets=[tweet for tweet in tweets if tweet['sentiment']=='negative']\n",
    "ppercent=len(ptweets)/len(tweets)\n",
    "npercent=len(ntweets)/len(tweets)\n",
    "print (\"The positive tweet percentage towards artifical intelligence is\"+\" \"+str(round(ppercent,2)))\n",
    "print (\"The negative tweet percentage towards artifical intelligence is\"+\" \"+str(round(npercent,2)))"
   ]
  },
  {
   "cell_type": "markdown",
   "metadata": {},
   "source": [
    "Visulaize the count of tweets with three emotional valence"
   ]
  },
  {
   "cell_type": "code",
   "execution_count": 49,
   "metadata": {},
   "outputs": [
    {
     "data": {
      "image/png": "[encoded data removed]",
      "text/plain": [
       "<matplotlib.figure.Figure at 0x246b54cfc50>"
      ]
     },
     "metadata": {},
     "output_type": "display_data"
    }
   ],
   "source": [
    "d = {'emotionvalence': ['positive', 'negative','netural'], 'count': [9, 28,13]}\n",
    "df=pd.DataFrame(d)\n",
    "ax = sns.barplot(x=\"emotionvalence\", y=\"count\", data=df)\n",
    "plt.show()"
   ]
  },
  {
   "cell_type": "markdown",
   "metadata": {},
   "source": [
    "Make extracts on positive tweets"
   ]
  },
  {
   "cell_type": "code",
   "execution_count": 59,
   "metadata": {},
   "outputs": [
    {
     "name": "stdout",
     "output_type": "stream",
     "text": [
      "RT @ipfconline1: How to create a good Artificial Intelligence?\n",
      "👉Getting Started With Genetic #Algorithms\n",
      "A Tutorial by @LouisnNicolle v/ @s…\n",
      "RT @HOG911: Flitto’s language data helps machine translation systems get more accurate #artificial_intelligence https://t.co/QAMyLsezbv - g…\n",
      "DESIGNED FOR EVERYONE'S NEED - WE HAVE OVER 200,000 USERS!  The Best Natural Language Analysis and Artificial Intel… https://t.co/NO9glzDXAj\n",
      "Any success story is a story of innovations. Technologies transform the economic landscape. Big data has become the… https://t.co/z8msW9lk2I\n",
      "An Inside Look at the First Nation With a Minister for #ArtificialIntelligence #AI #IA #machinelearning #BigData https://t.co/QHTlcQlZlW\n"
     ]
    }
   ],
   "source": [
    "for tweet in ptweets[:5]:\n",
    "    print (tweet['text'])"
   ]
  },
  {
   "cell_type": "markdown",
   "metadata": {},
   "source": [
    "Make extarcts on negative tweets"
   ]
  },
  {
   "cell_type": "code",
   "execution_count": 60,
   "metadata": {},
   "outputs": [
    {
     "name": "stdout",
     "output_type": "stream",
     "text": [
      "10 leaders on how HR can make the most of artificial intelligence on @personneltoday ft. @hirevue https://t.co/Q75H7BvdMv #AI\n",
      "Artificial Intelligence (AI) Disrupts the Traditional Insurance Industry https://t.co/WZC5QuJjAk #chatbots\n",
      "RT @mineifiwildout: shouts out all the black sheep ppl that kinda jus sit at the function pondering complex mathematical equations n whethe…\n",
      "RT @jborkenhagen: Conversational interface design is the new black :-)  https://t.co/ngBVZaRQ9k\n",
      "Banks are looking to use artificial intelligence in almost every part... https://t.co/9LCQ7tU9Ny #ai #ml #dl\n"
     ]
    }
   ],
   "source": [
    "for tweet in ntweets[:5]:\n",
    "    print (tweet['text'])"
   ]
  }
 ],
 "metadata": {
  "kernelspec": {
   "display_name": "Python 3",
   "language": "python",
   "name": "python3"
  },
  "language_info": {
   "codemirror_mode": {
    "name": "ipython",
    "version": 3
   },
   "file_extension": ".py",
   "mimetype": "text/x-python",
   "name": "python",
   "nbconvert_exporter": "python",
   "pygments_lexer": "ipython3",
   "version": "3.6.2"
  }
 },
 "nbformat": 4,
 "nbformat_minor": 2
}
